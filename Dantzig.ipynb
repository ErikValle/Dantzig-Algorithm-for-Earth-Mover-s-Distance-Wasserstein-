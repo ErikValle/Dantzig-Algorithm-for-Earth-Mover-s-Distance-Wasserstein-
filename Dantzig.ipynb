{
 "cells": [
  {
   "cell_type": "markdown",
   "id": "05780fa6-fdcf-4601-aa7d-5ee1dac7c856",
   "metadata": {},
   "source": [
    "## Dantzig's algorithm for parameters initialization given the Earth Mover's Distance (Wasserstein distance) model.\n",
    "\n",
    "Russell, E. J. (1969). Extension of Dantzig’s Algorithm to Finding an Initial Near-Optimal Basis for the Transportation Problem. Operations Research, 17(1), 187–191. http://www.jstor.org/stable/168855"
   ]
  },
  {
   "cell_type": "code",
   "execution_count": 1,
   "id": "4644bc43-d159-45c6-ace2-57124425ec02",
   "metadata": {},
   "outputs": [],
   "source": [
    "import numpy as np\n",
    "from scipy.optimize import minimize"
   ]
  },
  {
   "cell_type": "code",
   "execution_count": 2,
   "id": "fbd182bb-0040-4c51-9155-2565234c3a6b",
   "metadata": {},
   "outputs": [],
   "source": [
    "def dantzig(cost,a,b):\n",
    "    initial=np.zeros_like(costs)\n",
    "    c=0\n",
    "    col, row=[],[]\n",
    "    while np.any(costs) and c!=np.product(costs.shape):\n",
    "        w=[]\n",
    "        y=[]\n",
    "        #step 1\n",
    "        for i in range(len(costs)):\n",
    "            y.append(np.max(costs[:,i]))\n",
    "            w.append(np.max(costs[i]))\n",
    "        #step 2\n",
    "        s2=np.zeros_like(costs)\n",
    "        for i in range(costs.shape[0]):\n",
    "            for j in range(costs.shape[1]):\n",
    "                s2[i][j]=w[i]+y[j]-costs[i][j]\n",
    "        #clean up the s2\n",
    "        for i in range(len(col)):\n",
    "            s2[:,col[i]]=np.zeros_like(s2[:,col[i]])\n",
    "        for i in range(len(row)):\n",
    "            s2[row[i]]=np.zeros_like(s2[row[i]])\n",
    "        #step 3\n",
    "        xdij=np.max(s2)\n",
    "        coord=np.where(s2==xdij)\n",
    "        if a[coord[0][0]]>=b[coord[1][0]]: #if row is higher than column a>b\n",
    "            value=b[coord[1][0]]\n",
    "            costs[:,coord[1][0]]=np.zeros_like(costs[:,coord[1][0]])# \"delete\" column\n",
    "            col.append(coord[1][0])\n",
    "            b[coord[1][0]]=0\n",
    "            a[coord[0][0]]=a[coord[0][0]]-value\n",
    "        else: # b>=a\n",
    "            value=a[coord[0][0]]\n",
    "            costs[coord[0][0]]=np.zeros_like(costs[coord[0][0]])#\"delete\" row\n",
    "            row.append(coord[0][0])\n",
    "            a[coord[0][0]]=0\n",
    "            b[coord[1][0]]=b[coord[1][0]]-value\n",
    "        initial[coord[0][0]][coord[1][0]]=value\n",
    "        c=c+1\n",
    "    return initial"
   ]
  },
  {
   "cell_type": "code",
   "execution_count": 3,
   "id": "ba94cab0-deac-44cb-b251-ccf2136404df",
   "metadata": {},
   "outputs": [],
   "source": [
    "costs=np.array([[73,40,9,79,20],[62,93,96,8,13],[96,65,80,50,65],[57,58,29,12,87],[56,23,87,18,12]])\n",
    "a=[8,7,9,3,5] #origin\n",
    "b=[6,8,10,4,4] #destination\n",
    "result=dantzig(costs,a,b)"
   ]
  },
  {
   "cell_type": "markdown",
   "id": "f36761ba-15c3-4b33-b324-b971677e89ed",
   "metadata": {},
   "source": [
    "## Optimizing the initialized parameters from the Dantzing's algorithm"
   ]
  },
  {
   "cell_type": "code",
   "execution_count": 4,
   "id": "962b014f-766b-4f21-a506-730efbf1e2c3",
   "metadata": {},
   "outputs": [],
   "source": [
    "def objective(x):\n",
    "    minim=0\n",
    "    for i in range(costs.shape[0]):\n",
    "        for j in range(costs.shape[1]):\n",
    "            minim=minim+costs[i][j]*x[i*(5)+j]\n",
    "            #print(i,j,costs[i][j],x[i*(5)+j], costs[i][j]*x[i*(4)+j])\n",
    "    return minim\n",
    "def constraint0(x):\n",
    "    a0m=a[0]\n",
    "    for j in range(costs.shape[0]):\n",
    "        a0m=a0m-x[0*(len(costs))+j]\n",
    "    return a0m\n",
    "def constraint1(x):\n",
    "    a1m=a[1]\n",
    "    for j in range(costs.shape[0]):\n",
    "        a1m=a1m-x[1*(len(costs))+j]\n",
    "    return a1m\n",
    "def constraint2(x):\n",
    "    a2m=a[2]\n",
    "    for j in range(costs.shape[0]):\n",
    "        a2m=a2m-x[2*(len(costs))+j]\n",
    "    return a2m\n",
    "def constraint3(x):\n",
    "    a3m=a[3]\n",
    "    for j in range(costs.shape[0]):\n",
    "        a3m=a3m-x[3*(len(costs))+j]\n",
    "    return a3m\n",
    "def constraint4(x):\n",
    "    a4m=a[4]\n",
    "    for j in range(costs.shape[0]):\n",
    "        a4m=a4m-x[4*(len(costs))+j]\n",
    "    return a4m\n",
    "\n",
    "def constraint5(x):\n",
    "    b0m=b[0]\n",
    "    for j in range(costs.shape[0]):\n",
    "        b0m=b0m-x[(j*5)]\n",
    "    return b0m\n",
    "def constraint6(x):\n",
    "    b1m=b[1]\n",
    "    for j in range(costs.shape[0]):\n",
    "        b1m=b1m-x[(j*5+1)]\n",
    "    return b1m\n",
    "def constraint7(x):\n",
    "    b2m=b[2]\n",
    "    for j in range(costs.shape[0]):\n",
    "        b2m=b2m-x[(j*5+2)]\n",
    "    return b2m\n",
    "def constraint8(x):\n",
    "    b3m=b[3]\n",
    "    for j in range(costs.shape[0]):\n",
    "        b3m=b3m-x[(j*5+3)]\n",
    "    return b3m\n",
    "def constraint9(x):\n",
    "    b4m=b[4]\n",
    "    for j in range(costs.shape[0]):\n",
    "        b4m=b4m-x[(j*5+4)]\n",
    "    return b4m"
   ]
  },
  {
   "cell_type": "code",
   "execution_count": 5,
   "id": "dea4af5d-6c63-42f0-9f9e-82bbfb2db05b",
   "metadata": {},
   "outputs": [
    {
     "name": "stdout",
     "output_type": "stream",
     "text": [
      "1103\n"
     ]
    }
   ],
   "source": [
    "costs=np.array([[73,40,9,79,20],[62,93,96,8,13],[96,65,80,50,65],[57,58,29,12,87],[56,23,87,18,12]])\n",
    "a=[8,7,9,3,5] #origin\n",
    "b=[6,8,10,4,4] #destination\n",
    "x0=result.flatten()\n",
    "print(objective(x0))"
   ]
  },
  {
   "cell_type": "code",
   "execution_count": 6,
   "id": "bbbe6be4-ed32-4798-8e46-658f8b9d8fd9",
   "metadata": {},
   "outputs": [],
   "source": [
    "bn=(0, None)\n",
    "bnds=(bn,bn,bn,bn,bn,bn,bn,bn,bn,bn,bn,bn,bn,bn,bn,bn,bn,bn,bn,bn,bn,bn,bn,bn,bn)\n",
    "con0={'type':'eq','fun':constraint0}\n",
    "con1={'type':'eq','fun':constraint1}\n",
    "con2={'type':'eq','fun':constraint2}\n",
    "con3={'type':'eq','fun':constraint3}\n",
    "con4={'type':'eq','fun':constraint4}\n",
    "con5={'type':'eq','fun':constraint5}\n",
    "con6={'type':'eq','fun':constraint6}\n",
    "con7={'type':'eq','fun':constraint7}\n",
    "con8={'type':'eq','fun':constraint8}\n",
    "con9={'type':'eq','fun':constraint9}\n",
    "cons=[con0,con1,con2,con3,con4,con5,con6,con7,con8,con9]"
   ]
  },
  {
   "cell_type": "code",
   "execution_count": 7,
   "id": "7b07ee2e-5622-45bc-ad06-557772036806",
   "metadata": {},
   "outputs": [
    {
     "name": "stdout",
     "output_type": "stream",
     "text": [
      "1103.0\n"
     ]
    },
    {
     "data": {
      "text/plain": [
       "array([[0., 0., 8., 0., 0.],\n",
       "       [0., 0., 0., 3., 4.],\n",
       "       [5., 3., 0., 1., 0.],\n",
       "       [1., 0., 2., 0., 0.],\n",
       "       [0., 5., 0., 0., 0.]])"
      ]
     },
     "execution_count": 7,
     "metadata": {},
     "output_type": "execute_result"
    }
   ],
   "source": [
    "sol=minimize(objective,x0,method='SLSQP', bounds=bnds, constraints=cons)\n",
    "test=np.round_(sol.x, decimals = 3)\n",
    "print(objective(test))\n",
    "test=np.reshape(test, (5,5))\n",
    "test"
   ]
  }
 ],
 "metadata": {
  "kernelspec": {
   "display_name": "Python 3",
   "language": "python",
   "name": "python3"
  },
  "language_info": {
   "codemirror_mode": {
    "name": "ipython",
    "version": 3
   },
   "file_extension": ".py",
   "mimetype": "text/x-python",
   "name": "python",
   "nbconvert_exporter": "python",
   "pygments_lexer": "ipython3",
   "version": "3.9.12"
  }
 },
 "nbformat": 4,
 "nbformat_minor": 5
}
